{
 "cells": [
  {
   "cell_type": "markdown",
   "id": "f60e891e",
   "metadata": {},
   "source": [
    "### IMPORTACIÓN DE LIBRERIAS NECESARIAS"
   ]
  },
  {
   "cell_type": "code",
   "execution_count": 1,
   "id": "a815511a",
   "metadata": {},
   "outputs": [],
   "source": [
    "import tensorflow as tf\n",
    "import keras\n",
    "import numpy as np\n",
    "import os\n",
    "import re\n",
    "import matplotlib.pyplot as plt\n",
    "%matplotlib inline\n",
    "import sys\n",
    "from PIL import Image\n",
    "from keras.preprocessing.image import load_img\n",
    "from keras.preprocessing.image import img_to_array\n",
    "import pandas as pd\n",
    "from sklearn.model_selection import train_test_split\n",
    "from sklearn.metrics import classification_report\n",
    "import random\n",
    "from random import sample\n",
    "import shutil\n",
    "from keras.preprocessing.image import ImageDataGenerator, array_to_img, img_to_array, load_img\n",
    "from keras.models import model_from_json"
   ]
  },
  {
   "cell_type": "markdown",
   "id": "34ca53b7",
   "metadata": {},
   "source": [
    "# MEJORA DEL MODELO"
   ]
  },
  {
   "cell_type": "markdown",
   "id": "c1be03a9",
   "metadata": {},
   "source": [
    "Realizar una red neuronal desde cero con un conjunto de datos de más de 20000 imágenes es muy costoso computacionalmente en un ordenador personal.\n",
    "\n",
    "Sin embargo, para que el modelo sea potente y que los resultados se puedan generalizar es necesario que tenga muchas imágenes.\n",
    "Una manera de tener imágenes suficientes y poder utilizar un ordenador personal es la utilización del método **Data Augmentation**.\n",
    "\n",
    "Dicho método consiste en generar más datos, en nuestro caso más imágenes, a partir de nuestros datos de entrenamiento, introduciendo transformaciones aleatorias en las imágenes, de manera que estas tengan un aspecto creible."
   ]
  },
  {
   "cell_type": "markdown",
   "id": "319730aa",
   "metadata": {},
   "source": [
    "#### 1º IMPORTAR LOS DATOS"
   ]
  },
  {
   "cell_type": "markdown",
   "id": "89f89678",
   "metadata": {},
   "source": [
    "Nuestro conjunto de datos está formado por más de 21000 imágenes pertenecientes a cuatro clases. Para realizar **data augmentation** cogeremos 1000 imágenes de cada clase para el train y 300 imágenes de cada clase para el valid."
   ]
  },
  {
   "cell_type": "markdown",
   "id": "14df0a3a",
   "metadata": {},
   "source": [
    "Creamos un directorio llamado _Data_ y los subdirectorios _Train_ y _Valid_ "
   ]
  },
  {
   "cell_type": "code",
   "execution_count": 3,
   "id": "63c8c33f",
   "metadata": {},
   "outputs": [],
   "source": [
    "os.makedirs('/Data', exist_ok = True)\n",
    "os.makedirs('/Data/Train', exist_ok=True)\n",
    "os.makedirs('/Data/Valid', exist_ok=True)"
   ]
  },
  {
   "cell_type": "markdown",
   "id": "a4f74fee",
   "metadata": {},
   "source": [
    "Establecemos el directorio de nuestro ordenador donde se encuentra nuestro data set completo."
   ]
  },
  {
   "cell_type": "code",
   "execution_count": 4,
   "id": "dc8a60ca",
   "metadata": {},
   "outputs": [],
   "source": [
    "directorio = 'C:/Users/blanca/Desktop/UOC/3º SEMESTRE/TFM/COVID-19_Radiography_Dataset'"
   ]
  },
  {
   "cell_type": "markdown",
   "id": "f80d7701",
   "metadata": {},
   "source": [
    "Ahora vamos a ir \"rellenando\" ambos subdirectorios con las imágenes ordenadas en carpetas según su clase. La elección de las imágenes se hará de forma aleatoria. "
   ]
  },
  {
   "cell_type": "code",
   "execution_count": 5,
   "id": "0d587c7f",
   "metadata": {},
   "outputs": [],
   "source": [
    "# Establecemos la semilla de pseudoaleatorización\n",
    "random.seed('123456')\n",
    "\n",
    "# Creamos las listas \n",
    "carpetas = []\n",
    "clases = []\n",
    "\n",
    "# Leemos las carpetas de nuestro directorio, hay 4, una por cada clase\n",
    "for carpeta in os.listdir(directorio):\n",
    "    # Establecemos la ruta de cada carpeta\n",
    "    carpeta_path = os.path.join(directorio,carpeta)\n",
    "    # Juntamos las rutas de las carpetas en la lista *carpetas*\n",
    "    carpetas.append(carpeta_path)\n",
    "    \n",
    "# Leemos cada una de las carpetas que corresponde con cada una de las clases\n",
    "for carpeta in carpetas:\n",
    "    # Establecemos el nombre de la carpeta que será el nombre de la clase\n",
    "    nombre = carpeta.split(sep ='\\\\')[-1]\n",
    "    clases.append(nombre)\n",
    "    \n",
    "    # Creamos dentro de los directorios Train y Valid las carpetas para cada clase\n",
    "    os.makedirs('/Data/Train/' + nombre, exist_ok = True)\n",
    "    os.makedirs('/Data/Valid/' + nombre, exist_ok = True)\n",
    "    \n",
    "    \n",
    "    archivos = []\n",
    "    train_clase = []\n",
    "    valid_clase = []\n",
    "    # Leemos los archivos (imágenes) de cada carpeta \n",
    "    for archivo in os.listdir(carpeta):\n",
    "        archivos.append(archivo)\n",
    "    # Seleccionamos 1000 + 300 imágenes de cada carpeta\n",
    "    seleccion = sample(archivos, 1300)\n",
    "    \n",
    "    # Dividimos las imágenes seleccionadas en train y valid\n",
    "    train_clase = seleccion[:1000]\n",
    "    valid_clase = seleccion[1000:]\n",
    "    \n",
    "    # Copiamos las imágenes de train y valid en sus respectivas carpetas\n",
    "    for imagen in train_clase:\n",
    "        img_path = os.path.join(carpeta, imagen)\n",
    "        shutil.copy(img_path, os.path.join('/Data/Train',nombre, imagen))\n",
    "    for imagen in valid_clase:\n",
    "        img_path = os.path.join(carpeta, imagen)\n",
    "        shutil.copy(img_path, os.path.join('/Data/Valid',nombre, imagen))"
   ]
  },
  {
   "cell_type": "markdown",
   "id": "5c912f95",
   "metadata": {},
   "source": [
    "#### DATA AUGMENTATION"
   ]
  },
  {
   "cell_type": "markdown",
   "id": "5c6ad016",
   "metadata": {},
   "source": [
    "Comprobamos como funciona **data augmentation** con nuestros datos. Utilzamos la función ImageDataGenerator de keras."
   ]
  },
  {
   "cell_type": "code",
   "execution_count": 6,
   "id": "0ec63196",
   "metadata": {},
   "outputs": [],
   "source": [
    "from keras.preprocessing.image import ImageDataGenerator\n",
    "\n",
    "data_gen = ImageDataGenerator(\n",
    "        rotation_range=20,\n",
    "        width_shift_range=0.2,\n",
    "        height_shift_range=0.2,\n",
    "        rescale=1./255,\n",
    "        shear_range=0.05,\n",
    "        zoom_range=0.2,\n",
    "        horizontal_flip=True,\n",
    "        vertical_flip = False,\n",
    "        fill_mode='nearest')"
   ]
  },
  {
   "cell_type": "code",
   "execution_count": 36,
   "id": "7cde6458",
   "metadata": {},
   "outputs": [],
   "source": [
    "# Elegimos de forma aleatoria la imagen que va a ser \"aumentada\"\n",
    "\n",
    "from random import randrange\n",
    "\n",
    "# Elegimos de forma aleatoria la clase\n",
    "clase_elegida = random.choice(clases)\n",
    "x = clases.index(clase_elegida)\n",
    "rango = list(os.listdir(carpetas[x]))\n",
    "num = random.choice(rango)\n",
    "\n",
    "\n",
    "# Cargamos la imagen elegida de forma aleatoria\n",
    "img_prueba = load_img(os.path.join(carpetas[x],num))\n",
    "\n",
    "# Transformamos la imagen PIL en un numpy array\n",
    "img_prueba_array = img_to_array(img_prueba)\n",
    "\n",
    "# Redimensionamos la imagen\n",
    "img_shape = img_prueba_array.reshape((1,) + img_prueba_array.shape)\n",
    "\n",
    "os.makedirs('/Data/Ejemplo', exist_ok=True)\n",
    "i = 0\n",
    "for batch in data_gen.flow(img_shape, \n",
    "                           batch_size=1,\n",
    "                           save_to_dir='/Data/Ejemplo'):\n",
    "    i += 1\n",
    "    if i > 20:\n",
    "        break"
   ]
  },
  {
   "cell_type": "markdown",
   "id": "e2145d66",
   "metadata": {},
   "source": [
    "Mostramos la imagen original:"
   ]
  },
  {
   "cell_type": "code",
   "execution_count": 37,
   "id": "0641e138",
   "metadata": {},
   "outputs": [
    {
     "data": {
      "image/png": "[encoded data removed]",
      "text/plain": [
       "<PIL.Image.Image image mode=RGB size=299x299 at 0x2C176145A90>"
      ]
     },
     "execution_count": 37,
     "metadata": {},
     "output_type": "execute_result"
    }
   ],
   "source": [
    "img_prueba"
   ]
  },
  {
   "cell_type": "markdown",
   "id": "6a0007af",
   "metadata": {},
   "source": [
    "Mostramos una imagen aumentada:"
   ]
  },
  {
   "cell_type": "code",
   "execution_count": 71,
   "id": "f208f0fc",
   "metadata": {},
   "outputs": [
    {
     "data": {
      "image/png": "[encoded data removed]",
      "text/plain": [
       "<PIL.PngImagePlugin.PngImageFile image mode=RGB size=299x299 at 0x2C17776E790>"
      ]
     },
     "execution_count": 71,
     "metadata": {},
     "output_type": "execute_result"
    }
   ],
   "source": [
    "img_aum = []\n",
    "for imagen in os.listdir('/Data/Ejemplo'):  \n",
    "    imagen_path = os.path.join(\"C:\\Data\\Ejemplo\",imagen)\n",
    "    img_aum.append(imagen_path)\n",
    "load_img(img_aum[1])"
   ]
  },
  {
   "cell_type": "markdown",
   "id": "029c7b3f",
   "metadata": {},
   "source": [
    "Ahora vamos a realizar el data augmentation con todos los datos. \n",
    "\n",
    "Primero establacemos la configuración del aumento de datos para el train, el test y el valid data. Para el test y el valid data solo se normalizarán los datos.\n",
    "\n",
    "Después creamos el generador de datos para cada conjunto. "
   ]
  },
  {
   "cell_type": "code",
   "execution_count": 9,
   "id": "7984e973",
   "metadata": {},
   "outputs": [
    {
     "name": "stdout",
     "output_type": "stream",
     "text": [
      "Found 4000 images belonging to 4 classes.\n",
      "Found 1200 images belonging to 4 classes.\n",
      "Found 1200 images belonging to 4 classes.\n"
     ]
    }
   ],
   "source": [
    "batch_size = 20\n",
    "\n",
    "train_datagen = ImageDataGenerator(\n",
    "        rescale=1./255,\n",
    "        shear_range=0.2,\n",
    "        zoom_range=0.2,\n",
    "        horizontal_flip=True)\n",
    "\n",
    "test_datagen = ImageDataGenerator(rescale=1./255)\n",
    "validation_datagen = ImageDataGenerator(rescale = 1./255)\n",
    "\n",
    "\n",
    "train_generator = train_datagen.flow_from_directory(\n",
    "        '/Data/Train',\n",
    "        target_size=(299, 299),  \n",
    "        batch_size=batch_size,\n",
    "        class_mode='binary')  \n",
    "\n",
    "test_generator = test_datagen.flow_from_directory(\n",
    "        '/Data/Valid',\n",
    "        target_size=(299, 299),\n",
    "        batch_size=batch_size,\n",
    "        class_mode='binary')\n",
    "\n",
    "validation_generator = validation_datagen.flow_from_directory(\n",
    "        '/Data/Valid',\n",
    "        target_size=(299, 299),\n",
    "        batch_size=batch_size,\n",
    "        class_mode='binary')\n",
    "\n"
   ]
  },
  {
   "cell_type": "markdown",
   "id": "1ef37c2b",
   "metadata": {},
   "source": [
    "A continuación creamos el modelo de red neuronal convolucional."
   ]
  },
  {
   "cell_type": "code",
   "execution_count": 10,
   "id": "6a9b05e9",
   "metadata": {},
   "outputs": [
    {
     "name": "stdout",
     "output_type": "stream",
     "text": [
      "Model: \"sequential\"\n",
      "_________________________________________________________________\n",
      "Layer (type)                 Output Shape              Param #   \n",
      "=================================================================\n",
      "conv2d (Conv2D)              (None, 297, 297, 32)      896       \n",
      "_________________________________________________________________\n",
      "activation (Activation)      (None, 297, 297, 32)      0         \n",
      "_________________________________________________________________\n",
      "max_pooling2d (MaxPooling2D) (None, 148, 148, 32)      0         \n",
      "_________________________________________________________________\n",
      "conv2d_1 (Conv2D)            (None, 146, 146, 32)      9248      \n",
      "_________________________________________________________________\n",
      "activation_1 (Activation)    (None, 146, 146, 32)      0         \n",
      "_________________________________________________________________\n",
      "max_pooling2d_1 (MaxPooling2 (None, 73, 73, 32)        0         \n",
      "_________________________________________________________________\n",
      "conv2d_2 (Conv2D)            (None, 71, 71, 64)        18496     \n",
      "_________________________________________________________________\n",
      "activation_2 (Activation)    (None, 71, 71, 64)        0         \n",
      "_________________________________________________________________\n",
      "max_pooling2d_2 (MaxPooling2 (None, 35, 35, 64)        0         \n",
      "_________________________________________________________________\n",
      "flatten (Flatten)            (None, 78400)             0         \n",
      "_________________________________________________________________\n",
      "dense (Dense)                (None, 64)                5017664   \n",
      "_________________________________________________________________\n",
      "activation_3 (Activation)    (None, 64)                0         \n",
      "_________________________________________________________________\n",
      "dropout (Dropout)            (None, 64)                0         \n",
      "_________________________________________________________________\n",
      "dense_1 (Dense)              (None, 4)                 260       \n",
      "_________________________________________________________________\n",
      "activation_4 (Activation)    (None, 4)                 0         \n",
      "=================================================================\n",
      "Total params: 5,046,564\n",
      "Trainable params: 5,046,564\n",
      "Non-trainable params: 0\n",
      "_________________________________________________________________\n"
     ]
    }
   ],
   "source": [
    "from keras.models import Sequential\n",
    "from keras.layers import Conv2D, MaxPooling2D\n",
    "from keras.layers import Activation, Dropout, Flatten, Dense\n",
    "\n",
    "model = Sequential()\n",
    "model.add(Conv2D(32, (3, 3), input_shape=(299, 299, 3)))\n",
    "model.add(Activation('relu'))\n",
    "model.add(MaxPooling2D(pool_size=(2, 2)))\n",
    "\n",
    "model.add(Conv2D(32, (3, 3)))\n",
    "model.add(Activation('relu'))\n",
    "model.add(MaxPooling2D(pool_size=(2, 2)))\n",
    "\n",
    "model.add(Conv2D(64, (3, 3)))\n",
    "model.add(Activation('relu'))\n",
    "model.add(MaxPooling2D(pool_size=(2, 2)))\n",
    "\n",
    "model.add(Flatten())  \n",
    "model.add(Dense(64))\n",
    "model.add(Activation('relu'))\n",
    "model.add(Dropout(0.3))\n",
    "\n",
    "model.add(Dense(4))\n",
    "model.add(Activation('softmax'))\n",
    "\n",
    "model.summary()\n",
    "\n",
    "model.compile(loss='sparse_categorical_crossentropy',\n",
    "              optimizer='rmsprop',\n",
    "              metrics=['accuracy'])"
   ]
  },
  {
   "cell_type": "markdown",
   "id": "57b67f0e",
   "metadata": {},
   "source": [
    "Ahora entrenamos nuestro modelo con los generadores de imágenes creados."
   ]
  },
  {
   "cell_type": "code",
   "execution_count": 296,
   "id": "1a6f4cde",
   "metadata": {},
   "outputs": [
    {
     "name": "stdout",
     "output_type": "stream",
     "text": [
      "Epoch 1/50\n",
      "80/80 [==============================] - 247s 3s/step - loss: 0.6898 - accuracy: 0.7375 - val_loss: 0.6468 - val_accuracy: 0.7604\n",
      "Epoch 2/50\n",
      "80/80 [==============================] - 242s 3s/step - loss: 0.6879 - accuracy: 0.7275 - val_loss: 0.5911 - val_accuracy: 0.7917\n",
      "Epoch 3/50\n",
      "80/80 [==============================] - 241s 3s/step - loss: 0.6992 - accuracy: 0.7250 - val_loss: 0.6068 - val_accuracy: 0.7708\n",
      "Epoch 4/50\n",
      "80/80 [==============================] - 241s 3s/step - loss: 0.6741 - accuracy: 0.7406 - val_loss: 0.5696 - val_accuracy: 0.8021\n",
      "Epoch 5/50\n",
      "80/80 [==============================] - 241s 3s/step - loss: 0.6696 - accuracy: 0.7356 - val_loss: 0.5587 - val_accuracy: 0.7521\n",
      "Epoch 6/50\n",
      "80/80 [==============================] - 245s 3s/step - loss: 0.6500 - accuracy: 0.7619 - val_loss: 0.6174 - val_accuracy: 0.7500\n",
      "Epoch 7/50\n",
      "80/80 [==============================] - 242s 3s/step - loss: 0.6875 - accuracy: 0.7319 - val_loss: 0.6046 - val_accuracy: 0.7729\n",
      "Epoch 8/50\n",
      "80/80 [==============================] - 244s 3s/step - loss: 0.6704 - accuracy: 0.7431 - val_loss: 0.6213 - val_accuracy: 0.7500\n",
      "Epoch 9/50\n",
      "80/80 [==============================] - 241s 3s/step - loss: 0.6619 - accuracy: 0.7575 - val_loss: 0.5862 - val_accuracy: 0.7771\n",
      "Epoch 10/50\n",
      "80/80 [==============================] - 241s 3s/step - loss: 0.6377 - accuracy: 0.7406 - val_loss: 0.5923 - val_accuracy: 0.7688\n",
      "Epoch 11/50\n",
      "80/80 [==============================] - 241s 3s/step - loss: 0.6404 - accuracy: 0.7538 - val_loss: 0.6055 - val_accuracy: 0.7729\n",
      "Epoch 12/50\n",
      "80/80 [==============================] - 242s 3s/step - loss: 0.5725 - accuracy: 0.7769 - val_loss: 0.5572 - val_accuracy: 0.7896\n",
      "Epoch 13/50\n",
      "80/80 [==============================] - 246s 3s/step - loss: 0.6296 - accuracy: 0.7694 - val_loss: 0.5481 - val_accuracy: 0.7812\n",
      "Epoch 14/50\n",
      "80/80 [==============================] - 241s 3s/step - loss: 0.6180 - accuracy: 0.7756 - val_loss: 0.6112 - val_accuracy: 0.7896\n",
      "Epoch 15/50\n",
      "80/80 [==============================] - 241s 3s/step - loss: 0.6281 - accuracy: 0.7775 - val_loss: 0.5377 - val_accuracy: 0.8062\n",
      "Epoch 16/50\n",
      "80/80 [==============================] - 241s 3s/step - loss: 0.6279 - accuracy: 0.7487 - val_loss: 0.5274 - val_accuracy: 0.8146\n",
      "Epoch 17/50\n",
      "80/80 [==============================] - 243s 3s/step - loss: 0.5806 - accuracy: 0.7750 - val_loss: 0.6057 - val_accuracy: 0.7917\n",
      "Epoch 18/50\n",
      "80/80 [==============================] - 240s 3s/step - loss: 0.5921 - accuracy: 0.7750 - val_loss: 0.6342 - val_accuracy: 0.7604\n",
      "Epoch 19/50\n",
      "80/80 [==============================] - 243s 3s/step - loss: 0.6339 - accuracy: 0.7481 - val_loss: 0.4822 - val_accuracy: 0.8479\n",
      "Epoch 20/50\n",
      "80/80 [==============================] - 242s 3s/step - loss: 0.6081 - accuracy: 0.7794 - val_loss: 0.5518 - val_accuracy: 0.8000\n",
      "Epoch 21/50\n",
      "80/80 [==============================] - 241s 3s/step - loss: 0.6185 - accuracy: 0.7731 - val_loss: 0.4697 - val_accuracy: 0.8313\n",
      "Epoch 22/50\n",
      "80/80 [==============================] - 241s 3s/step - loss: 0.6229 - accuracy: 0.7725 - val_loss: 0.5069 - val_accuracy: 0.8271\n",
      "Epoch 23/50\n",
      "80/80 [==============================] - 248s 3s/step - loss: 0.5899 - accuracy: 0.7731 - val_loss: 0.5198 - val_accuracy: 0.8042\n",
      "Epoch 24/50\n",
      "80/80 [==============================] - 243s 3s/step - loss: 0.6022 - accuracy: 0.7775 - val_loss: 0.6632 - val_accuracy: 0.7625\n",
      "Epoch 25/50\n",
      "80/80 [==============================] - 244s 3s/step - loss: 0.6019 - accuracy: 0.7619 - val_loss: 0.5934 - val_accuracy: 0.7542\n",
      "Epoch 26/50\n",
      "80/80 [==============================] - 241s 3s/step - loss: 0.5939 - accuracy: 0.7719 - val_loss: 0.8676 - val_accuracy: 0.7583\n",
      "Epoch 27/50\n",
      "80/80 [==============================] - 242s 3s/step - loss: 0.6027 - accuracy: 0.7769 - val_loss: 0.5585 - val_accuracy: 0.8229\n",
      "Epoch 28/50\n",
      "80/80 [==============================] - 241s 3s/step - loss: 0.5897 - accuracy: 0.7819 - val_loss: 0.5163 - val_accuracy: 0.8083\n",
      "Epoch 29/50\n",
      "80/80 [==============================] - 242s 3s/step - loss: 0.5916 - accuracy: 0.7763 - val_loss: 0.5254 - val_accuracy: 0.8104\n",
      "Epoch 30/50\n",
      "80/80 [==============================] - 241s 3s/step - loss: 0.6133 - accuracy: 0.7837 - val_loss: 0.4153 - val_accuracy: 0.8646\n",
      "Epoch 31/50\n",
      "80/80 [==============================] - 244s 3s/step - loss: 0.5872 - accuracy: 0.7800 - val_loss: 0.5048 - val_accuracy: 0.8146\n",
      "Epoch 32/50\n",
      "80/80 [==============================] - 241s 3s/step - loss: 0.6014 - accuracy: 0.7750 - val_loss: 0.5957 - val_accuracy: 0.7896\n",
      "Epoch 33/50\n",
      "80/80 [==============================] - 241s 3s/step - loss: 0.6222 - accuracy: 0.7694 - val_loss: 0.5253 - val_accuracy: 0.8354\n",
      "Epoch 34/50\n",
      "80/80 [==============================] - 240s 3s/step - loss: 0.5971 - accuracy: 0.7850 - val_loss: 0.4242 - val_accuracy: 0.8583\n",
      "Epoch 35/50\n",
      "80/80 [==============================] - 242s 3s/step - loss: 0.6017 - accuracy: 0.7706 - val_loss: 0.5315 - val_accuracy: 0.8125\n",
      "Epoch 36/50\n",
      "80/80 [==============================] - 242s 3s/step - loss: 0.5889 - accuracy: 0.7925 - val_loss: 0.6139 - val_accuracy: 0.7958\n",
      "Epoch 37/50\n",
      "80/80 [==============================] - 249s 3s/step - loss: 0.5853 - accuracy: 0.7862 - val_loss: 0.6655 - val_accuracy: 0.7250\n",
      "Epoch 38/50\n",
      "80/80 [==============================] - 241s 3s/step - loss: 0.5801 - accuracy: 0.7875 - val_loss: 0.4037 - val_accuracy: 0.8542\n",
      "Epoch 39/50\n",
      "80/80 [==============================] - 240s 3s/step - loss: 0.5349 - accuracy: 0.8062 - val_loss: 0.6495 - val_accuracy: 0.8271\n",
      "Epoch 40/50\n",
      "80/80 [==============================] - 242s 3s/step - loss: 0.5992 - accuracy: 0.7763 - val_loss: 0.6281 - val_accuracy: 0.8083\n",
      "Epoch 41/50\n",
      "80/80 [==============================] - 241s 3s/step - loss: 0.5970 - accuracy: 0.7831 - val_loss: 0.6340 - val_accuracy: 0.7958\n",
      "Epoch 42/50\n",
      "80/80 [==============================] - 243s 3s/step - loss: 0.5756 - accuracy: 0.7837 - val_loss: 0.4871 - val_accuracy: 0.8250\n",
      "Epoch 43/50\n",
      "80/80 [==============================] - 241s 3s/step - loss: 0.5685 - accuracy: 0.7975 - val_loss: 0.4470 - val_accuracy: 0.8458\n",
      "Epoch 44/50\n",
      "80/80 [==============================] - 241s 3s/step - loss: 0.5553 - accuracy: 0.8275 - val_loss: 0.4226 - val_accuracy: 0.8479\n",
      "Epoch 45/50\n",
      "80/80 [==============================] - 242s 3s/step - loss: 0.6057 - accuracy: 0.7831 - val_loss: 0.5992 - val_accuracy: 0.7917\n",
      "Epoch 46/50\n",
      "80/80 [==============================] - 243s 3s/step - loss: 0.5901 - accuracy: 0.7812 - val_loss: 0.4720 - val_accuracy: 0.8271\n",
      "Epoch 47/50\n",
      "80/80 [==============================] - 243s 3s/step - loss: 0.6052 - accuracy: 0.7844 - val_loss: 0.4637 - val_accuracy: 0.8292\n",
      "Epoch 48/50\n",
      "80/80 [==============================] - 244s 3s/step - loss: 0.5652 - accuracy: 0.7912 - val_loss: 0.6205 - val_accuracy: 0.8125\n",
      "Epoch 49/50\n",
      "80/80 [==============================] - 241s 3s/step - loss: 0.5728 - accuracy: 0.7825 - val_loss: 0.4835 - val_accuracy: 0.8229\n",
      "Epoch 50/50\n",
      "80/80 [==============================] - 240s 3s/step - loss: 0.5388 - accuracy: 0.7981 - val_loss: 0.4285 - val_accuracy: 0.8333\n"
     ]
    }
   ],
   "source": [
    "batch_size = 50\n",
    "history = model.fit_generator(\n",
    "    train_generator,\n",
    "    steps_per_epoch = 4000 // batch_size,\n",
    "    epochs = 50,\n",
    "    validation_data=validation_generator,\n",
    "    validation_steps= 1200 // batch_size)\n",
    "model.save_weights('first_try.h5')"
   ]
  },
  {
   "cell_type": "markdown",
   "id": "108f9aa5",
   "metadata": {},
   "source": [
    "Evaluamos el modelo:"
   ]
  },
  {
   "cell_type": "code",
   "execution_count": 25,
   "id": "a9e81fc2",
   "metadata": {},
   "outputs": [
    {
     "name": "stdout",
     "output_type": "stream",
     "text": [
      "60/60 [==============================] - 51s 852ms/step - loss: 0.4289 - accuracy: 0.8592\n"
     ]
    },
    {
     "data": {
      "text/plain": [
       "[0.428889662027359, 0.85916668176651]"
      ]
     },
     "execution_count": 25,
     "metadata": {},
     "output_type": "execute_result"
    }
   ],
   "source": [
    "model.evaluate(test_generator)"
   ]
  },
  {
   "cell_type": "markdown",
   "id": "69ff2334",
   "metadata": {},
   "source": [
    "Guardamos el modelo:"
   ]
  },
  {
   "cell_type": "code",
   "execution_count": 26,
   "id": "339a63d1",
   "metadata": {},
   "outputs": [],
   "source": [
    "model_json = model.to_json()\n",
    "model.save_weights(\"model.h5py\")"
   ]
  },
  {
   "cell_type": "markdown",
   "id": "b002830f",
   "metadata": {},
   "source": [
    "Observamos los resultados"
   ]
  },
  {
   "cell_type": "code",
   "execution_count": null,
   "id": "e28f66e6",
   "metadata": {},
   "outputs": [],
   "source": [
    "history_dict = history.history\n",
    "print(history_dict.keys())"
   ]
  },
  {
   "cell_type": "code",
   "execution_count": 299,
   "id": "fd2cedbe",
   "metadata": {},
   "outputs": [
    {
     "name": "stderr",
     "output_type": "stream",
     "text": [
      "No handles with labels found to put in legend.\n"
     ]
    },
    {
     "data": {
      "text/plain": [
       "<Figure size 432x288 with 0 Axes>"
      ]
     },
     "execution_count": 299,
     "metadata": {},
     "output_type": "execute_result"
    },
    {
     "data": {
      "image/png": "[encoded data removed]",
      "text/plain": [
       "<Figure size 432x288 with 1 Axes>"
      ]
     },
     "metadata": {
      "needs_background": "light"
     },
     "output_type": "display_data"
    },
    {
     "data": {
      "image/png": "[encoded data removed]",
      "text/plain": [
       "<Figure size 432x288 with 1 Axes>"
      ]
     },
     "metadata": {
      "needs_background": "light"
     },
     "output_type": "display_data"
    },
    {
     "data": {
      "text/plain": [
       "<Figure size 432x288 with 0 Axes>"
      ]
     },
     "metadata": {},
     "output_type": "display_data"
    }
   ],
   "source": [
    "acc      = history.history['accuracy']\n",
    "val_acc  = history.history['val_accuracy']\n",
    "loss     = history.history['loss']\n",
    "val_loss = history.history['val_loss']\n",
    "\n",
    "epochs   = range(1,len(acc)+1,1)\n",
    "\n",
    "plt.plot ( epochs,     acc, 'r--', label='Training acc'  )\n",
    "plt.plot ( epochs, val_acc,  'b', label='Validation acc')\n",
    "plt.title ('Training and validation accuracy')\n",
    "plt.ylabel('acc')\n",
    "plt.xlabel('epochs')\n",
    "\n",
    "plt.legend()\n",
    "plt.figure()\n",
    "\n",
    "plt.plot ( epochs,     loss, 'r--' )\n",
    "plt.plot ( epochs, val_loss ,  'b' )\n",
    "plt.title ('Training and validation loss'   )\n",
    "plt.ylabel('acc')\n",
    "plt.xlabel('epochs')\n",
    "\n",
    "plt.legend()\n",
    "plt.figure()"
   ]
  },
  {
   "cell_type": "markdown",
   "id": "68a05ade",
   "metadata": {},
   "source": [
    "## TRANSFER LEARNING"
   ]
  },
  {
   "cell_type": "markdown",
   "id": "b9f480bf",
   "metadata": {},
   "source": [
    "Otra forma de mejorar nuestro modelo es untilizar un modelo preentrenado. Utilizaremos la covnet **VGG16**."
   ]
  },
  {
   "cell_type": "markdown",
   "id": "72fcebee",
   "metadata": {},
   "source": [
    "Cargamos el modelo VGG16. Damos la *instrucción include_top = False* para poder utilizar nuestro propio clasificador densamente conectado con cuatro clases."
   ]
  },
  {
   "cell_type": "code",
   "execution_count": 12,
   "id": "e3e9f9e4",
   "metadata": {},
   "outputs": [
    {
     "name": "stdout",
     "output_type": "stream",
     "text": [
      "Model: \"vgg16\"\n",
      "_________________________________________________________________\n",
      "Layer (type)                 Output Shape              Param #   \n",
      "=================================================================\n",
      "input_1 (InputLayer)         [(None, 299, 299, 3)]     0         \n",
      "_________________________________________________________________\n",
      "block1_conv1 (Conv2D)        (None, 299, 299, 64)      1792      \n",
      "_________________________________________________________________\n",
      "block1_conv2 (Conv2D)        (None, 299, 299, 64)      36928     \n",
      "_________________________________________________________________\n",
      "block1_pool (MaxPooling2D)   (None, 149, 149, 64)      0         \n",
      "_________________________________________________________________\n",
      "block2_conv1 (Conv2D)        (None, 149, 149, 128)     73856     \n",
      "_________________________________________________________________\n",
      "block2_conv2 (Conv2D)        (None, 149, 149, 128)     147584    \n",
      "_________________________________________________________________\n",
      "block2_pool (MaxPooling2D)   (None, 74, 74, 128)       0         \n",
      "_________________________________________________________________\n",
      "block3_conv1 (Conv2D)        (None, 74, 74, 256)       295168    \n",
      "_________________________________________________________________\n",
      "block3_conv2 (Conv2D)        (None, 74, 74, 256)       590080    \n",
      "_________________________________________________________________\n",
      "block3_conv3 (Conv2D)        (None, 74, 74, 256)       590080    \n",
      "_________________________________________________________________\n",
      "block3_pool (MaxPooling2D)   (None, 37, 37, 256)       0         \n",
      "_________________________________________________________________\n",
      "block4_conv1 (Conv2D)        (None, 37, 37, 512)       1180160   \n",
      "_________________________________________________________________\n",
      "block4_conv2 (Conv2D)        (None, 37, 37, 512)       2359808   \n",
      "_________________________________________________________________\n",
      "block4_conv3 (Conv2D)        (None, 37, 37, 512)       2359808   \n",
      "_________________________________________________________________\n",
      "block4_pool (MaxPooling2D)   (None, 18, 18, 512)       0         \n",
      "_________________________________________________________________\n",
      "block5_conv1 (Conv2D)        (None, 18, 18, 512)       2359808   \n",
      "_________________________________________________________________\n",
      "block5_conv2 (Conv2D)        (None, 18, 18, 512)       2359808   \n",
      "_________________________________________________________________\n",
      "block5_conv3 (Conv2D)        (None, 18, 18, 512)       2359808   \n",
      "_________________________________________________________________\n",
      "block5_pool (MaxPooling2D)   (None, 9, 9, 512)         0         \n",
      "=================================================================\n",
      "Total params: 14,714,688\n",
      "Trainable params: 14,714,688\n",
      "Non-trainable params: 0\n",
      "_________________________________________________________________\n"
     ]
    }
   ],
   "source": [
    "from tensorflow.keras.applications import VGG16\n",
    "\n",
    "VGG16_model = VGG16(input_shape = (299,299,3),\n",
    "                        include_top = False,\n",
    "                        weights = 'imagenet')\n",
    "\n",
    "VGG16_model.summary()"
   ]
  },
  {
   "cell_type": "markdown",
   "id": "e7b9c1ca",
   "metadata": {},
   "source": [
    "### Extracción de características sin aumento de datos"
   ]
  },
  {
   "cell_type": "markdown",
   "id": "b7590cfc",
   "metadata": {},
   "source": [
    "Primero probaremos el modelo VGG16 sin aumento de datos. \n",
    "Crearemos las listas de imagenes de train y valid y sus correspondientes etiquetas."
   ]
  },
  {
   "cell_type": "code",
   "execution_count": 13,
   "id": "26dcb795",
   "metadata": {},
   "outputs": [],
   "source": [
    "train_images = []\n",
    "train_labels = []\n",
    "valid_images = []\n",
    "valid_labels = []\n",
    "\n",
    "# Leemos los archivos de Train\n",
    "for root, dirs, files in os.walk('/Data/Train'):\n",
    "    # Leemos cada imagen\n",
    "    for filename in files:\n",
    "        # Obtenemos su ruta\n",
    "        img_path = os.path.join(root, filename)\n",
    "        # Cargamos la imagen\n",
    "        img = load_img(img_path)\n",
    "        # Convertimos la imagen en array\n",
    "        img = img_to_array(img)\n",
    "        # Redimentsionamos la imagen\n",
    "        img = np.expand_dims(img, axis = 0)\n",
    "        # Incluimos la imagen en su lista \n",
    "        train_images.append(img)\n",
    "        # Obtenemos la clase de cada imagen según su nombre\n",
    "        x = filename.split(sep ='-')\n",
    "        x = x[0]\n",
    "        # Añadimos la clase a la lista de labels\n",
    "        train_labels.append(x)\n",
    "    \n",
    "    \n",
    "# Realizamos el mismo procedimiento con las imagenes de Valid\n",
    "for root, dirs, files in os.walk('/Data/Valid'):\n",
    "    for filename in files:\n",
    "        img_path = os.path.join(root, filename)\n",
    "        img = load_img(img_path)\n",
    "        img = img_to_array(img)\n",
    "        img = np.expand_dims(img, axis = 0)\n",
    "        valid_images.append(img)\n",
    "        x = filename.split(sep ='-')\n",
    "        x = x[0]\n",
    "        valid_labels.append(x)"
   ]
  },
  {
   "cell_type": "markdown",
   "id": "47019425",
   "metadata": {},
   "source": [
    "Codificamos las etiquetas:"
   ]
  },
  {
   "cell_type": "code",
   "execution_count": 14,
   "id": "682ee7e2",
   "metadata": {},
   "outputs": [],
   "source": [
    "dic = {'COVID':0, 'Lung_Opacity':1, 'Normal':2, 'Viral Pneumonia': 3}\n",
    "train_labels = [dic.get(n, n) for n in train_labels]\n",
    "valid_labels = [dic.get(n, n) for n in valid_labels]\n"
   ]
  },
  {
   "cell_type": "markdown",
   "id": "c24682f5",
   "metadata": {},
   "source": [
    "Extraemos características:"
   ]
  },
  {
   "cell_type": "code",
   "execution_count": 15,
   "id": "4e3f4021",
   "metadata": {},
   "outputs": [],
   "source": [
    "train_features = []\n",
    "\n",
    "for img in train_images:\n",
    "    img_preprocessed = keras.applications.vgg16.preprocess_input(img)\n",
    "    feature = VGG16_model.predict(img_preprocessed)\n",
    "    train_features.append(feature)\n",
    "train_features = np.concatenate(train_features)"
   ]
  },
  {
   "cell_type": "code",
   "execution_count": 16,
   "id": "30ecb40f",
   "metadata": {},
   "outputs": [],
   "source": [
    "valid_features = []\n",
    "\n",
    "for img in valid_images:\n",
    "    img_preprocessed = keras.applications.vgg16.preprocess_input(img)\n",
    "    feature = VGG16_model.predict(img_preprocessed)\n",
    "    valid_features.append(feature)\n",
    "valid_features = np.concatenate(valid_features)"
   ]
  },
  {
   "cell_type": "code",
   "execution_count": 19,
   "id": "73e6b2dd",
   "metadata": {},
   "outputs": [],
   "source": [
    "train_labels = np.array(train_labels)\n",
    "valid_labels = np.array(valid_labels)"
   ]
  },
  {
   "cell_type": "markdown",
   "id": "35f023ca",
   "metadata": {},
   "source": [
    "Establecemos el modelo densamente conectado:"
   ]
  },
  {
   "cell_type": "code",
   "execution_count": 20,
   "id": "31a42d2c",
   "metadata": {},
   "outputs": [
    {
     "name": "stdout",
     "output_type": "stream",
     "text": [
      "Epoch 1/50\n",
      "125/125 [==============================] - 32s 259ms/step - loss: 64.0170 - accuracy: 0.7665 - val_loss: 15.8945 - val_accuracy: 0.9092\n",
      "Epoch 2/50\n",
      "125/125 [==============================] - 29s 236ms/step - loss: 21.2788 - accuracy: 0.8845 - val_loss: 28.4804 - val_accuracy: 0.8758\n",
      "Epoch 3/50\n",
      "125/125 [==============================] - 30s 237ms/step - loss: 12.6797 - accuracy: 0.9202 - val_loss: 24.1286 - val_accuracy: 0.8867\n",
      "Epoch 4/50\n",
      "125/125 [==============================] - 29s 232ms/step - loss: 10.9765 - accuracy: 0.9350 - val_loss: 24.3133 - val_accuracy: 0.8992\n",
      "Epoch 5/50\n",
      "125/125 [==============================] - 29s 231ms/step - loss: 6.5536 - accuracy: 0.9555 - val_loss: 18.2486 - val_accuracy: 0.9067\n",
      "Epoch 6/50\n",
      "125/125 [==============================] - 29s 230ms/step - loss: 6.6166 - accuracy: 0.9560 - val_loss: 20.6486 - val_accuracy: 0.9108\n",
      "Epoch 7/50\n",
      "125/125 [==============================] - 29s 232ms/step - loss: 4.1157 - accuracy: 0.9680 - val_loss: 23.9505 - val_accuracy: 0.9042\n",
      "Epoch 8/50\n",
      "125/125 [==============================] - 29s 232ms/step - loss: 3.4606 - accuracy: 0.9710 - val_loss: 22.5622 - val_accuracy: 0.9017\n",
      "Epoch 9/50\n",
      "125/125 [==============================] - 29s 232ms/step - loss: 3.2706 - accuracy: 0.9740 - val_loss: 20.6529 - val_accuracy: 0.9075\n",
      "Epoch 10/50\n",
      "125/125 [==============================] - 29s 233ms/step - loss: 3.5768 - accuracy: 0.9735 - val_loss: 25.8080 - val_accuracy: 0.9075\n",
      "Epoch 11/50\n",
      "125/125 [==============================] - 29s 231ms/step - loss: 3.2771 - accuracy: 0.9772 - val_loss: 22.3207 - val_accuracy: 0.9167\n",
      "Epoch 12/50\n",
      "125/125 [==============================] - 29s 230ms/step - loss: 2.0313 - accuracy: 0.9822 - val_loss: 25.1480 - val_accuracy: 0.9125\n",
      "Epoch 13/50\n",
      "125/125 [==============================] - 29s 231ms/step - loss: 2.1178 - accuracy: 0.9847 - val_loss: 24.3292 - val_accuracy: 0.9075\n",
      "Epoch 14/50\n",
      "125/125 [==============================] - 29s 232ms/step - loss: 2.4657 - accuracy: 0.9830 - val_loss: 22.8239 - val_accuracy: 0.9192\n",
      "Epoch 15/50\n",
      "125/125 [==============================] - 29s 230ms/step - loss: 2.1924 - accuracy: 0.9825 - val_loss: 24.5715 - val_accuracy: 0.9150\n",
      "Epoch 16/50\n",
      "125/125 [==============================] - 29s 231ms/step - loss: 1.5865 - accuracy: 0.9870 - val_loss: 35.3643 - val_accuracy: 0.8700\n",
      "Epoch 17/50\n",
      "125/125 [==============================] - 29s 228ms/step - loss: 1.9996 - accuracy: 0.9870 - val_loss: 29.6291 - val_accuracy: 0.9175\n",
      "Epoch 18/50\n",
      "125/125 [==============================] - 29s 233ms/step - loss: 1.9473 - accuracy: 0.9822 - val_loss: 33.2381 - val_accuracy: 0.9092\n",
      "Epoch 19/50\n",
      "125/125 [==============================] - 29s 231ms/step - loss: 1.5130 - accuracy: 0.9872 - val_loss: 31.4414 - val_accuracy: 0.9117\n",
      "Epoch 20/50\n",
      "125/125 [==============================] - 29s 232ms/step - loss: 1.7533 - accuracy: 0.9893 - val_loss: 31.2249 - val_accuracy: 0.9017\n",
      "Epoch 21/50\n",
      "125/125 [==============================] - 29s 231ms/step - loss: 1.5546 - accuracy: 0.9908 - val_loss: 43.2929 - val_accuracy: 0.8925\n",
      "Epoch 22/50\n",
      "125/125 [==============================] - 29s 233ms/step - loss: 1.2038 - accuracy: 0.9902 - val_loss: 32.6963 - val_accuracy: 0.9083\n",
      "Epoch 23/50\n",
      "125/125 [==============================] - 29s 229ms/step - loss: 2.3357 - accuracy: 0.9868 - val_loss: 42.4409 - val_accuracy: 0.8992\n",
      "Epoch 24/50\n",
      "125/125 [==============================] - 29s 231ms/step - loss: 1.0683 - accuracy: 0.9910 - val_loss: 29.2597 - val_accuracy: 0.9225\n",
      "Epoch 25/50\n",
      "125/125 [==============================] - 29s 228ms/step - loss: 1.1171 - accuracy: 0.9923 - val_loss: 36.1982 - val_accuracy: 0.9067\n",
      "Epoch 26/50\n",
      "125/125 [==============================] - 29s 232ms/step - loss: 1.5213 - accuracy: 0.9905 - val_loss: 33.4891 - val_accuracy: 0.9117\n",
      "Epoch 27/50\n",
      "125/125 [==============================] - 29s 230ms/step - loss: 0.9255 - accuracy: 0.9933 - val_loss: 32.6851 - val_accuracy: 0.9158\n",
      "Epoch 28/50\n",
      "125/125 [==============================] - 29s 229ms/step - loss: 0.8392 - accuracy: 0.9935 - val_loss: 34.5683 - val_accuracy: 0.9117\n",
      "Epoch 29/50\n",
      "125/125 [==============================] - 29s 229ms/step - loss: 0.9502 - accuracy: 0.9930 - val_loss: 36.3186 - val_accuracy: 0.9017\n",
      "Epoch 30/50\n",
      "125/125 [==============================] - 29s 232ms/step - loss: 0.9013 - accuracy: 0.9942 - val_loss: 34.0515 - val_accuracy: 0.9133\n",
      "Epoch 31/50\n",
      "125/125 [==============================] - 29s 232ms/step - loss: 0.9868 - accuracy: 0.9905 - val_loss: 36.2329 - val_accuracy: 0.9158\n",
      "Epoch 32/50\n",
      "125/125 [==============================] - 29s 230ms/step - loss: 0.7730 - accuracy: 0.9920 - val_loss: 39.2470 - val_accuracy: 0.9033\n",
      "Epoch 33/50\n",
      "125/125 [==============================] - 29s 229ms/step - loss: 0.7925 - accuracy: 0.9950 - val_loss: 35.7487 - val_accuracy: 0.9158\n",
      "Epoch 34/50\n",
      "125/125 [==============================] - 29s 230ms/step - loss: 0.6912 - accuracy: 0.9952 - val_loss: 35.3851 - val_accuracy: 0.9142\n",
      "Epoch 35/50\n",
      "125/125 [==============================] - 29s 231ms/step - loss: 0.7287 - accuracy: 0.9948 - val_loss: 40.3303 - val_accuracy: 0.9125\n",
      "Epoch 36/50\n",
      "125/125 [==============================] - 29s 230ms/step - loss: 0.8048 - accuracy: 0.9958 - val_loss: 34.7755 - val_accuracy: 0.9208\n",
      "Epoch 37/50\n",
      "125/125 [==============================] - 29s 229ms/step - loss: 0.8928 - accuracy: 0.9920 - val_loss: 39.2432 - val_accuracy: 0.9117\n",
      "Epoch 38/50\n",
      "125/125 [==============================] - 29s 230ms/step - loss: 0.7695 - accuracy: 0.9935 - val_loss: 47.0344 - val_accuracy: 0.9017\n",
      "Epoch 39/50\n",
      "125/125 [==============================] - 29s 231ms/step - loss: 0.5961 - accuracy: 0.9962 - val_loss: 60.3844 - val_accuracy: 0.8825\n",
      "Epoch 40/50\n",
      "125/125 [==============================] - 29s 230ms/step - loss: 1.3760 - accuracy: 0.9923 - val_loss: 38.4275 - val_accuracy: 0.9075\n",
      "Epoch 41/50\n",
      "125/125 [==============================] - 29s 230ms/step - loss: 0.9058 - accuracy: 0.9950 - val_loss: 39.1278 - val_accuracy: 0.9167\n",
      "Epoch 42/50\n",
      "125/125 [==============================] - 29s 231ms/step - loss: 0.6493 - accuracy: 0.9948 - val_loss: 36.5360 - val_accuracy: 0.9208\n",
      "Epoch 43/50\n",
      "125/125 [==============================] - 29s 233ms/step - loss: 0.5058 - accuracy: 0.9950 - val_loss: 42.1128 - val_accuracy: 0.9200\n",
      "Epoch 44/50\n",
      "125/125 [==============================] - 29s 231ms/step - loss: 0.3143 - accuracy: 0.9975 - val_loss: 37.1050 - val_accuracy: 0.9258\n",
      "Epoch 45/50\n",
      "125/125 [==============================] - 29s 230ms/step - loss: 0.4270 - accuracy: 0.9975 - val_loss: 39.7955 - val_accuracy: 0.9167\n",
      "Epoch 46/50\n",
      "125/125 [==============================] - 29s 233ms/step - loss: 0.8398 - accuracy: 0.9945 - val_loss: 36.0032 - val_accuracy: 0.9208\n",
      "Epoch 47/50\n",
      "125/125 [==============================] - 29s 234ms/step - loss: 0.5884 - accuracy: 0.9960 - val_loss: 40.7530 - val_accuracy: 0.9183\n",
      "Epoch 48/50\n",
      "125/125 [==============================] - 29s 232ms/step - loss: 0.3988 - accuracy: 0.9967 - val_loss: 38.3641 - val_accuracy: 0.9225\n",
      "Epoch 49/50\n",
      "125/125 [==============================] - 29s 232ms/step - loss: 0.2836 - accuracy: 0.9977 - val_loss: 38.3917 - val_accuracy: 0.9242\n",
      "Epoch 50/50\n",
      "125/125 [==============================] - 29s 232ms/step - loss: 0.8052 - accuracy: 0.9952 - val_loss: 41.7292 - val_accuracy: 0.9183\n"
     ]
    }
   ],
   "source": [
    "inputs = keras.Input(shape=(9, 9, 512))\n",
    "\n",
    "x = keras.layers.Flatten()(inputs)\n",
    "x = keras.layers.Dense(256)(x)\n",
    "x = keras.layers.Dropout(0.5)(x)\n",
    "\n",
    "outputs = keras.layers.Dense(4, activation='softmax')(x)\n",
    "\n",
    "model1 = keras.Model(inputs, outputs)\n",
    "model1.compile(loss='sparse_categorical_crossentropy',\n",
    "              optimizer = 'rmsprop',\n",
    "              metrics=['accuracy'])\n",
    "\n",
    "callbacks = [keras.callbacks.ModelCheckpoint(\n",
    "    filepath='feature_extraction.keras',\n",
    "    save_best_only=True,\n",
    "    monitor='val_loss')]\n",
    "\n",
    "history1 = model1.fit(\n",
    "  train_features, train_labels,\n",
    "  epochs=50,\n",
    "  validation_data=(valid_features, valid_labels),\n",
    "  callbacks=callbacks)"
   ]
  },
  {
   "cell_type": "markdown",
   "id": "e4328b91",
   "metadata": {},
   "source": [
    "Guardamos el modelo:"
   ]
  },
  {
   "cell_type": "code",
   "execution_count": 21,
   "id": "a0a0b58f",
   "metadata": {},
   "outputs": [],
   "source": [
    "model1_json = model1.to_json()\n",
    "model1.save_weights(\"model1.h5py\")"
   ]
  },
  {
   "cell_type": "markdown",
   "id": "225bf04e",
   "metadata": {},
   "source": [
    "Evaluamos el modelo:"
   ]
  },
  {
   "cell_type": "code",
   "execution_count": 428,
   "id": "74bf3f2c",
   "metadata": {},
   "outputs": [
    {
     "name": "stdout",
     "output_type": "stream",
     "text": [
      "38/38 [==============================] - 2s 58ms/step - loss: 99.2840 - accuracy: 0.8258\n",
      "Test Accuracy: 0.8258333206176758\n"
     ]
    }
   ],
   "source": [
    "test_lost, test_acc= model1.evaluate(valid_features, valid_labels)\n",
    "print (\"Test Accuracy:\", test_acc)"
   ]
  },
  {
   "cell_type": "markdown",
   "id": "ab558f59",
   "metadata": {},
   "source": [
    "Mostramos los resultados:"
   ]
  },
  {
   "cell_type": "code",
   "execution_count": 423,
   "id": "77d2d11a",
   "metadata": {},
   "outputs": [
    {
     "data": {
      "image/png": "[encoded data removed]",
      "text/plain": [
       "<Figure size 432x288 with 1 Axes>"
      ]
     },
     "metadata": {
      "needs_background": "light"
     },
     "output_type": "display_data"
    },
    {
     "data": {
      "image/png": "[encoded data removed]",
      "text/plain": [
       "<Figure size 432x288 with 1 Axes>"
      ]
     },
     "metadata": {
      "needs_background": "light"
     },
     "output_type": "display_data"
    }
   ],
   "source": [
    "import matplotlib.pyplot as plt\n",
    "acc = history1.history['accuracy']\n",
    "val_acc = history1.history['val_accuracy']\n",
    "loss = history1.history['loss']\n",
    "val_loss = history1.history['val_loss']\n",
    "epochs = range(1, len(acc) + 1)\n",
    "plt.plot(epochs, acc, 'bo', label='Training acc')\n",
    "plt.plot(epochs, val_acc, 'b', label='Validation acc')\n",
    "plt.title('Training and validation accuracy')\n",
    "plt.legend()\n",
    "plt.figure()\n",
    "plt.plot(epochs, loss, 'bo', label='Training loss')\n",
    "plt.plot(epochs, val_loss, 'b', label='Validation loss')\n",
    "plt.title('Training and validation loss')\n",
    "plt.legend()\n",
    "plt.show()"
   ]
  },
  {
   "cell_type": "markdown",
   "id": "4814089c",
   "metadata": {},
   "source": [
    "### Extracción de características junto con aumento de datos"
   ]
  },
  {
   "cell_type": "markdown",
   "id": "9cf01487",
   "metadata": {},
   "source": [
    "Congelamos la base convolucional del modelo:"
   ]
  },
  {
   "cell_type": "code",
   "execution_count": 22,
   "id": "f968d936",
   "metadata": {},
   "outputs": [
    {
     "name": "stdout",
     "output_type": "stream",
     "text": [
      "This is the number of trainable weights before freezing the conv base: 26\n",
      "This is the number of trainable weights after freezing the conv base: 0\n"
     ]
    }
   ],
   "source": [
    "print('This is the number of trainable weights before freezing the conv base:', len(VGG16_model.trainable_weights))\n",
    "\n",
    "VGG16_model.trainable = False\n",
    "\n",
    "print('This is the number of trainable weights after freezing the conv base:', len(VGG16_model.trainable_weights))\n"
   ]
  },
  {
   "cell_type": "markdown",
   "id": "a2c037b3",
   "metadata": {},
   "source": [
    "Contruimos el modelo"
   ]
  },
  {
   "cell_type": "code",
   "execution_count": 23,
   "id": "d51cd35c",
   "metadata": {
    "scrolled": false
   },
   "outputs": [],
   "source": [
    "x = keras.layers.Flatten()(VGG16_model.output)\n",
    "\n",
    "x = keras.layers.Dense(512, activation='relu')(x)\n",
    "\n",
    "x = keras.layers.Dropout(0.3)(x)\n",
    "\n",
    "x = keras.layers.Dense(4, activation='softmax')(x)\n",
    "\n",
    "model2 = tf.keras.models.Model(VGG16_model.input, x)\n",
    "\n",
    "model2.compile(optimizer = tf.keras.optimizers.RMSprop(lr=0.0001), loss = 'sparse_categorical_crossentropy',metrics = ['accuracy'])\n"
   ]
  },
  {
   "cell_type": "markdown",
   "id": "14708e04",
   "metadata": {},
   "source": [
    "Entrenamos el modelo con el aumento de datos."
   ]
  },
  {
   "cell_type": "code",
   "execution_count": 24,
   "id": "bb85db45",
   "metadata": {},
   "outputs": [
    {
     "name": "stdout",
     "output_type": "stream",
     "text": [
      "Epoch 1/10\n",
      "100/100 [==============================] - 2774s 28s/step - loss: 1.1917 - accuracy: 0.5505 - val_loss: 0.6425 - val_accuracy: 0.7325\n",
      "Epoch 2/10\n",
      "100/100 [==============================] - 2680s 27s/step - loss: 0.7645 - accuracy: 0.6870 - val_loss: 0.5722 - val_accuracy: 0.7775\n",
      "Epoch 3/10\n",
      "100/100 [==============================] - 2671s 27s/step - loss: 0.6660 - accuracy: 0.7370 - val_loss: 0.5663 - val_accuracy: 0.7825\n",
      "Epoch 4/10\n",
      "100/100 [==============================] - 2803s 28s/step - loss: 0.5850 - accuracy: 0.7625 - val_loss: 0.4752 - val_accuracy: 0.8200\n",
      "Epoch 5/10\n",
      "100/100 [==============================] - 2805s 28s/step - loss: 0.5661 - accuracy: 0.7805 - val_loss: 0.5552 - val_accuracy: 0.7567\n",
      "Epoch 6/10\n",
      "100/100 [==============================] - 2799s 28s/step - loss: 0.5812 - accuracy: 0.7680 - val_loss: 0.3944 - val_accuracy: 0.8508\n",
      "Epoch 7/10\n",
      "100/100 [==============================] - 2807s 28s/step - loss: 0.5055 - accuracy: 0.8025 - val_loss: 0.3974 - val_accuracy: 0.8517\n",
      "Epoch 8/10\n",
      "100/100 [==============================] - 2805s 28s/step - loss: 0.4885 - accuracy: 0.8145 - val_loss: 0.4453 - val_accuracy: 0.8192\n",
      "Epoch 9/10\n",
      "100/100 [==============================] - 2789s 28s/step - loss: 0.4950 - accuracy: 0.8095 - val_loss: 0.4702 - val_accuracy: 0.8175\n",
      "Epoch 10/10\n",
      "100/100 [==============================] - 2781s 28s/step - loss: 0.4601 - accuracy: 0.8195 - val_loss: 0.3980 - val_accuracy: 0.8608\n"
     ]
    }
   ],
   "source": [
    "vgghist = model2.fit(train_generator, \n",
    "                     validation_data = validation_generator, \n",
    "                     steps_per_epoch = 100, \n",
    "                     epochs = 10)\n"
   ]
  },
  {
   "cell_type": "code",
   "execution_count": 78,
   "id": "ccbec4d3",
   "metadata": {},
   "outputs": [
    {
     "name": "stdout",
     "output_type": "stream",
     "text": [
      "60/60 [==============================] - 1440s 24s/step - loss: 0.3460 - accuracy: 0.8750\n"
     ]
    },
    {
     "data": {
      "text/plain": [
       "[0.34598997235298157, 0.875]"
      ]
     },
     "execution_count": 78,
     "metadata": {},
     "output_type": "execute_result"
    }
   ],
   "source": [
    "model2.evaluate(test_generator)"
   ]
  },
  {
   "cell_type": "markdown",
   "id": "4e183e98",
   "metadata": {},
   "source": [
    "Guardamos el modelo:"
   ]
  },
  {
   "cell_type": "code",
   "execution_count": 25,
   "id": "f4a24e4f",
   "metadata": {},
   "outputs": [],
   "source": [
    "model2_json = model2.to_json()\n",
    "model2.save_weights(\"model2.h5py\")"
   ]
  },
  {
   "cell_type": "markdown",
   "id": "f20cffaf",
   "metadata": {},
   "source": [
    "Mostramos los resultados:"
   ]
  },
  {
   "cell_type": "code",
   "execution_count": 80,
   "id": "3eb8c786",
   "metadata": {},
   "outputs": [
    {
     "data": {
      "image/png": "[encoded data removed]",
      "text/plain": [
       "<Figure size 432x288 with 1 Axes>"
      ]
     },
     "metadata": {
      "needs_background": "light"
     },
     "output_type": "display_data"
    },
    {
     "data": {
      "image/png": "[encoded data removed]",
      "text/plain": [
       "<Figure size 432x288 with 1 Axes>"
      ]
     },
     "metadata": {
      "needs_background": "light"
     },
     "output_type": "display_data"
    }
   ],
   "source": [
    "import matplotlib.pyplot as plt\n",
    "acc = vgghist.history['accuracy']\n",
    "val_acc = vgghist.history['val_accuracy']\n",
    "loss = vgghist.history['loss']\n",
    "val_loss = vgghist.history['val_loss']\n",
    "epochs = range(1, len(acc) + 1)\n",
    "plt.plot(epochs, acc, 'bo', label='Training acc')\n",
    "plt.plot(epochs, val_acc, 'b', label='Validation acc')\n",
    "plt.title('Training and validation accuracy')\n",
    "plt.legend()\n",
    "plt.figure()\n",
    "plt.plot(epochs, loss, 'bo', label='Training loss')\n",
    "plt.plot(epochs, val_loss, 'b', label='Validation loss')\n",
    "plt.title('Training and validation loss')\n",
    "plt.legend()\n",
    "plt.show()"
   ]
  },
  {
   "cell_type": "markdown",
   "id": "4e88bc24",
   "metadata": {},
   "source": [
    "## FINE TUNING"
   ]
  },
  {
   "cell_type": "markdown",
   "id": "abcb4165",
   "metadata": {},
   "source": [
    "Por último vamos a utilizar la técnica **fine tuning** para mejorar el rendimiento del modelo. Este método consiste en descongelar algunas de las capas superiores de un modelo previamente entrenado que hemos congelado, en nuestro caso VGG16, y entrenar conjuntamente tanto la parte que hemos agregado en el apartado anterior, el clasificador completamente conectado, como estas capas superiores."
   ]
  },
  {
   "cell_type": "markdown",
   "id": "e5056676",
   "metadata": {},
   "source": [
    "Importamos de nuevo el modelo VGG16:"
   ]
  },
  {
   "cell_type": "code",
   "execution_count": 26,
   "id": "e9c25ae5",
   "metadata": {},
   "outputs": [
    {
     "name": "stdout",
     "output_type": "stream",
     "text": [
      "Model: \"vgg16\"\n",
      "_________________________________________________________________\n",
      "Layer (type)                 Output Shape              Param #   \n",
      "=================================================================\n",
      "input_3 (InputLayer)         [(None, 299, 299, 3)]     0         \n",
      "_________________________________________________________________\n",
      "block1_conv1 (Conv2D)        (None, 299, 299, 64)      1792      \n",
      "_________________________________________________________________\n",
      "block1_conv2 (Conv2D)        (None, 299, 299, 64)      36928     \n",
      "_________________________________________________________________\n",
      "block1_pool (MaxPooling2D)   (None, 149, 149, 64)      0         \n",
      "_________________________________________________________________\n",
      "block2_conv1 (Conv2D)        (None, 149, 149, 128)     73856     \n",
      "_________________________________________________________________\n",
      "block2_conv2 (Conv2D)        (None, 149, 149, 128)     147584    \n",
      "_________________________________________________________________\n",
      "block2_pool (MaxPooling2D)   (None, 74, 74, 128)       0         \n",
      "_________________________________________________________________\n",
      "block3_conv1 (Conv2D)        (None, 74, 74, 256)       295168    \n",
      "_________________________________________________________________\n",
      "block3_conv2 (Conv2D)        (None, 74, 74, 256)       590080    \n",
      "_________________________________________________________________\n",
      "block3_conv3 (Conv2D)        (None, 74, 74, 256)       590080    \n",
      "_________________________________________________________________\n",
      "block3_pool (MaxPooling2D)   (None, 37, 37, 256)       0         \n",
      "_________________________________________________________________\n",
      "block4_conv1 (Conv2D)        (None, 37, 37, 512)       1180160   \n",
      "_________________________________________________________________\n",
      "block4_conv2 (Conv2D)        (None, 37, 37, 512)       2359808   \n",
      "_________________________________________________________________\n",
      "block4_conv3 (Conv2D)        (None, 37, 37, 512)       2359808   \n",
      "_________________________________________________________________\n",
      "block4_pool (MaxPooling2D)   (None, 18, 18, 512)       0         \n",
      "_________________________________________________________________\n",
      "block5_conv1 (Conv2D)        (None, 18, 18, 512)       2359808   \n",
      "_________________________________________________________________\n",
      "block5_conv2 (Conv2D)        (None, 18, 18, 512)       2359808   \n",
      "_________________________________________________________________\n",
      "block5_conv3 (Conv2D)        (None, 18, 18, 512)       2359808   \n",
      "_________________________________________________________________\n",
      "block5_pool (MaxPooling2D)   (None, 9, 9, 512)         0         \n",
      "=================================================================\n",
      "Total params: 14,714,688\n",
      "Trainable params: 14,714,688\n",
      "Non-trainable params: 0\n",
      "_________________________________________________________________\n"
     ]
    }
   ],
   "source": [
    "VGG16_model = VGG16(input_shape = (299,299,3),\n",
    "                   include_top = False,\n",
    "                   weights = 'imagenet')\n",
    "\n",
    "VGG16_model.summary()"
   ]
  },
  {
   "cell_type": "markdown",
   "id": "23494014",
   "metadata": {},
   "source": [
    "Congelamos todas lascapas hasta la cuarta desde la última:"
   ]
  },
  {
   "cell_type": "code",
   "execution_count": 27,
   "id": "e538beeb",
   "metadata": {},
   "outputs": [],
   "source": [
    "VGG16_model.trainable = True"
   ]
  },
  {
   "cell_type": "code",
   "execution_count": 28,
   "id": "1a748ea3",
   "metadata": {},
   "outputs": [],
   "source": [
    "for layer in VGG16_model.layers[:-4]:\n",
    "    layer.trainable = False"
   ]
  },
  {
   "cell_type": "markdown",
   "id": "dc7599d3",
   "metadata": {},
   "source": [
    "Compilamos y entrenamos de nuevo el modelo:"
   ]
  },
  {
   "cell_type": "code",
   "execution_count": 29,
   "id": "38f68ff3",
   "metadata": {},
   "outputs": [
    {
     "name": "stdout",
     "output_type": "stream",
     "text": [
      "Epoch 1/10\n",
      "100/100 [==============================] - 2880s 29s/step - loss: 0.3579 - accuracy: 0.8675 - val_loss: 0.3663 - val_accuracy: 0.8625\n",
      "Epoch 2/10\n",
      "100/100 [==============================] - 2752s 28s/step - loss: 0.3439 - accuracy: 0.8645 - val_loss: 0.3505 - val_accuracy: 0.8742\n",
      "Epoch 3/10\n",
      "100/100 [==============================] - 2655s 27s/step - loss: 0.3622 - accuracy: 0.8685 - val_loss: 0.3498 - val_accuracy: 0.8775\n",
      "Epoch 4/10\n",
      "100/100 [==============================] - 2692s 27s/step - loss: 0.3363 - accuracy: 0.8815 - val_loss: 0.3487 - val_accuracy: 0.8667\n",
      "Epoch 5/10\n",
      "100/100 [==============================] - 2771s 28s/step - loss: 0.3465 - accuracy: 0.8760 - val_loss: 0.3617 - val_accuracy: 0.8608\n",
      "Epoch 6/10\n",
      "100/100 [==============================] - 2781s 28s/step - loss: 0.3290 - accuracy: 0.8800 - val_loss: 0.3718 - val_accuracy: 0.8550\n",
      "Epoch 7/10\n",
      "100/100 [==============================] - 2772s 28s/step - loss: 0.3445 - accuracy: 0.8730 - val_loss: 0.3816 - val_accuracy: 0.8575\n",
      "Epoch 8/10\n",
      "100/100 [==============================] - 3778s 38s/step - loss: 0.3090 - accuracy: 0.8860 - val_loss: 0.3396 - val_accuracy: 0.8750\n",
      "Epoch 9/10\n",
      "100/100 [==============================] - 2764s 28s/step - loss: 0.3298 - accuracy: 0.8700 - val_loss: 0.3511 - val_accuracy: 0.8717\n",
      "Epoch 10/10\n",
      "100/100 [==============================] - 2835s 28s/step - loss: 0.3149 - accuracy: 0.8810 - val_loss: 0.3460 - val_accuracy: 0.8750\n"
     ]
    }
   ],
   "source": [
    "model2.compile(loss = 'sparse_categorical_crossentropy',\n",
    "              optimizer = keras.optimizers.RMSprop(learning_rate=1e-5),\n",
    "              metrics = ['accuracy'])\n",
    "\n",
    "callbacks = [keras.callbacks.ModelCheckpoint(\n",
    "    filepath='fine_tuning.keras',\n",
    "    save_best_only=True,\n",
    "    monitor='val_loss')]\n",
    "\n",
    "history3 = model2.fit(\n",
    "    train_generator,\n",
    "    epochs = 10,\n",
    "    steps_per_epoch = 100,\n",
    "    validation_data = validation_generator,\n",
    "    callbacks = callbacks)"
   ]
  },
  {
   "cell_type": "markdown",
   "id": "33a457be",
   "metadata": {},
   "source": [
    "Guardamos el modelo:"
   ]
  },
  {
   "cell_type": "code",
   "execution_count": 30,
   "id": "93ebb4a0",
   "metadata": {},
   "outputs": [],
   "source": [
    "model3_json = model2.to_json()\n",
    "model2.save_weights(\"model3.h5py\")"
   ]
  },
  {
   "cell_type": "markdown",
   "id": "4a58908b",
   "metadata": {},
   "source": [
    "Evaluamos el modelo:"
   ]
  },
  {
   "cell_type": "code",
   "execution_count": 460,
   "id": "98a8d093",
   "metadata": {},
   "outputs": [
    {
     "name": "stdout",
     "output_type": "stream",
     "text": [
      "60/60 [==============================] - 890s 15s/step - loss: 0.3664 - accuracy: 0.8642\n",
      "Test accuracy: 0.864\n"
     ]
    }
   ],
   "source": [
    "test_loss, test_acc = model2.evaluate(test_generator)\n",
    "print('Test accuracy: %.3f' % (test_acc,))"
   ]
  },
  {
   "cell_type": "markdown",
   "id": "e806ae71",
   "metadata": {},
   "source": [
    "Mostramos los resultados:"
   ]
  },
  {
   "cell_type": "code",
   "execution_count": 81,
   "id": "70ce021e",
   "metadata": {},
   "outputs": [
    {
     "data": {
      "image/png": "[encoded data removed]",
      "text/plain": [
       "<Figure size 432x288 with 1 Axes>"
      ]
     },
     "metadata": {
      "needs_background": "light"
     },
     "output_type": "display_data"
    },
    {
     "data": {
      "image/png": "[encoded data removed]",
      "text/plain": [
       "<Figure size 432x288 with 1 Axes>"
      ]
     },
     "metadata": {
      "needs_background": "light"
     },
     "output_type": "display_data"
    }
   ],
   "source": [
    "import matplotlib.pyplot as plt\n",
    "acc = history3.history['accuracy']\n",
    "val_acc = history3.history['val_accuracy']\n",
    "loss = history3.history['loss']\n",
    "val_loss = history3.history['val_loss']\n",
    "epochs = range(1, len(acc) + 1)\n",
    "plt.plot(epochs, acc, 'bo', label='Training acc')\n",
    "plt.plot(epochs, val_acc, 'b', label='Validation acc')\n",
    "plt.title('Training and validation accuracy')\n",
    "plt.legend()\n",
    "plt.figure()\n",
    "plt.plot(epochs, loss, 'bo', label='Training loss')\n",
    "plt.plot(epochs, val_loss, 'b', label='Validation loss')\n",
    "plt.title('Training and validation loss')\n",
    "plt.legend()\n",
    "plt.show()"
   ]
  }
 ],
 "metadata": {
  "kernelspec": {
   "display_name": "Python 3",
   "language": "python",
   "name": "python3"
  },
  "language_info": {
   "codemirror_mode": {
    "name": "ipython",
    "version": 3
   },
   "file_extension": ".py",
   "mimetype": "text/x-python",
   "name": "python",
   "nbconvert_exporter": "python",
   "pygments_lexer": "ipython3",
   "version": "3.8.8"
  }
 },
 "nbformat": 4,
 "nbformat_minor": 5
}
